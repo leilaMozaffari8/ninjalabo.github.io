{
 "cells": [
  {
   "attachments": {},
   "cell_type": "markdown",
   "metadata": {},
   "source": [
    "# Architecture"
   ]
  },
  {
   "attachments": {},
   "cell_type": "markdown",
   "metadata": {},
   "source": [
    "This page contains general information about the architechture and how each component is related to each other.\n",
    "\n",
    "## Overview\n",
    "\n",
    "TinyMLaaS consist of several components:\n",
    " - backend\n",
    " - streamlit frontend\n",
    " - cli\n",
    " - MCU components\n",
    "\n",
    "The different components are stored in their own repositories which can be found [here](https://github.com/orgs/TinyMLaas/repositories).\n",
    "\n",
    "The backend is the core component which contains all the API endpoints. By calling them you can execute all the tasks necessary for the workflow. The backend is responsible with communicating with the machine learing components, storing data in the database and installing & managing MCU devices.\n",
    "\n",
    "Tensorflow machine learning components live in the main repository and need to be fetched for the backend seperately.\n",
    "\n",
    "MCU repository contains the bridge for communicating with the devices and the code needed for devices.\n",
    "\n",
    "We have implemented two different interfaces for the TinyMLaaS: CLI and website GUI using streamlit. Since you can make API calls directly to backend it's extremely simple to build your own frontends in the future.\n",
    "\n",
    " \n",
    "## Block Diagram\n",
    "\n",
    "![Block Diagram](images/block_diagram.png)\n",
    "\n",
    "The backend is the main component that deals with calling the tensorflow functions and communicating with the MCU devices. Tensorflow is currently the supported UI but you can also make API calls directly or use the CLI. In the future the tensorflow components can be containarized as their own service.\n",
    "\n",
    "## Key Components\n",
    "- ML model training\n",
    "- Data Storage and loading (database)\n",
    "- ML model quantization and optimization\n",
    "- ML model compilation for MCUs\n",
    "\n",
    "## Database diagram\n",
    "\n",
    "![Database Diagram](images/db_diagram.png)\n"
   ]
  }
 ],
 "metadata": {
  "kernelspec": {
   "display_name": "python3",
   "language": "python",
   "name": "python3"
  },
  "language_info": {
   "codemirror_mode": {
    "name": "ipython",
    "version": 3
   },
   "file_extension": ".py",
   "mimetype": "text/x-python",
   "name": "python",
   "nbconvert_exporter": "python",
   "pygments_lexer": "ipython3",
   "version": "3.10.0"
  }
 },
 "nbformat": 4,
 "nbformat_minor": 4
}
