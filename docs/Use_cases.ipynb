{
 "cells": [
  {
   "attachments": {},
   "cell_type": "markdown",
   "metadata": {},
   "source": [
    "# Use case scenarios"
   ]
  },
  {
   "attachments": {},
   "cell_type": "markdown",
   "metadata": {},
   "source": [
    "\n",
    "As a security-conscious homeowner, I want to use TinyML(*) for human-detection to monitor my home and receive alerts when unexpected activity is detected, so that I can take action to ensure my home is safe.\n",
    "\n",
    "1. Data Collection: User collects video footage from their smart camera, which will be used to train the TinyML model for human-detection.\n",
    "2. Model Training: User trains a TinyML human-detection model using the collected video footage and publicly available datasets.\n",
    "3. Model Squeezing: User optimizes the model size to ensure it can be deployed on TinyML-enabled devices.\n",
    "4. Model Deployment: User deploys the optimized TinyML model on their smart camera.\n",
    "5. Inference: The smart camera uses the deployed TinyML model to perform real-time human-detection, identifying humans and activities within its field of view.\n",
    "6. Alerts: If the camera detects unusual activity, such as a person entering the home when no one is expected to be there, it sends alerts to the user's smartphone.\n",
    "7. Model Update: User periodically updates the TinyML model with new data to ensure its accuracy and improve its performance over time.\n",
    "8. User Access: User can access real-time video footage and receive notifications to confirm the alert and take appropriate action, such as contacting the police or checking in on the home from a remote location.\n",
    "\n",
    "(*) The alternative to TinyML would be running human detection in the cloud, with all the possible network latency issue we may face. TinyML-based human-detection can trigger an alarm installed \"in place\" where the camera is. By relying on cloud, we would need to transfer the video footage to the cloud and then running inference at there."
   ]
  }
 ],
 "metadata": {
  "language_info": {
   "name": "python"
  },
  "orig_nbformat": 4
 },
 "nbformat": 4,
 "nbformat_minor": 2
}
